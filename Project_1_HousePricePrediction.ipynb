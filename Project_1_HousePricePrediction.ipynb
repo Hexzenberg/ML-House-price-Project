{
 "cells": [
  {
   "cell_type": "markdown",
   "id": "0797000e",
   "metadata": {},
   "source": [
    "#This is a sample project performed by me so as to get fimiliar with the libraries even though the model does not seem to fit well with the given dataset becuase of the errors being inconsistent maybe because this project was originally done on the Bosten house price dataset and that has been removed from the sklearn datasets. I have just made this project for practice purposes and may make a better model for this dataset in the near future."
   ]
  },
  {
   "cell_type": "markdown",
   "id": "d8cc1f6e",
   "metadata": {},
   "source": [
    "#Importing the dependencies "
   ]
  },
  {
   "cell_type": "code",
   "execution_count": 210,
   "id": "8fcbfac3",
   "metadata": {},
   "outputs": [],
   "source": [
    "import numpy as np\n",
    "import pandas as pd\n",
    "import matplotlib.pyplot as plt\n",
    "import seaborn as sns\n",
    "import sklearn.datasets\n",
    "from sklearn.model_selection import train_test_split\n",
    "from xgboost import XGBRegressor\n",
    "from sklearn import metrics\n",
    "from sklearn import preprocessing"
   ]
  },
  {
   "cell_type": "markdown",
   "id": "28784572",
   "metadata": {},
   "source": [
    "#Importing the boston house price Dataset after downloading it from online sources(The dataset has been removed from sklearn)"
   ]
  },
  {
   "cell_type": "code",
   "execution_count": 211,
   "id": "b53c2e97",
   "metadata": {},
   "outputs": [],
   "source": [
    "house_price_dataset =pd.read_csv(\"housing.csv\")"
   ]
  },
  {
   "cell_type": "code",
   "execution_count": 212,
   "id": "15bca551",
   "metadata": {},
   "outputs": [
    {
     "name": "stdout",
     "output_type": "stream",
     "text": [
      "        price  area  bedrooms  bathrooms  stories mainroad guestroom basement  \\\n",
      "0    13300000  7420         4          2        3      yes        no       no   \n",
      "1    12250000  8960         4          4        4      yes        no       no   \n",
      "2    12250000  9960         3          2        2      yes        no      yes   \n",
      "3    12215000  7500         4          2        2      yes        no      yes   \n",
      "4    11410000  7420         4          1        2      yes       yes      yes   \n",
      "..        ...   ...       ...        ...      ...      ...       ...      ...   \n",
      "540   1820000  3000         2          1        1      yes        no      yes   \n",
      "541   1767150  2400         3          1        1       no        no       no   \n",
      "542   1750000  3620         2          1        1      yes        no       no   \n",
      "543   1750000  2910         3          1        1       no        no       no   \n",
      "544   1750000  3850         3          1        2      yes        no       no   \n",
      "\n",
      "    hotwaterheating airconditioning  parking prefarea furnishingstatus  \n",
      "0                no             yes        2      yes        furnished  \n",
      "1                no             yes        3       no        furnished  \n",
      "2                no              no        2      yes   semi-furnished  \n",
      "3                no             yes        3      yes        furnished  \n",
      "4                no             yes        2       no        furnished  \n",
      "..              ...             ...      ...      ...              ...  \n",
      "540              no              no        2       no      unfurnished  \n",
      "541              no              no        0       no   semi-furnished  \n",
      "542              no              no        0       no      unfurnished  \n",
      "543              no              no        0       no        furnished  \n",
      "544              no              no        0       no      unfurnished  \n",
      "\n",
      "[545 rows x 13 columns]\n"
     ]
    }
   ],
   "source": [
    "print(house_price_dataset)"
   ]
  },
  {
   "cell_type": "markdown",
   "id": "d5fb1918",
   "metadata": {},
   "source": [
    "#Loading the dataset into a dataframe"
   ]
  },
  {
   "cell_type": "code",
   "execution_count": 213,
   "id": "997ef9e2",
   "metadata": {},
   "outputs": [],
   "source": [
    "house_price_dataframe=pd.DataFrame(house_price_dataset)"
   ]
  },
  {
   "cell_type": "markdown",
   "id": "91b54729",
   "metadata": {},
   "source": [
    "#Printing the first 5 rows of the dataset"
   ]
  },
  {
   "cell_type": "code",
   "execution_count": 214,
   "id": "62f98ee7",
   "metadata": {},
   "outputs": [
    {
     "data": {
      "text/html": [
       "<div>\n",
       "<style scoped>\n",
       "    .dataframe tbody tr th:only-of-type {\n",
       "        vertical-align: middle;\n",
       "    }\n",
       "\n",
       "    .dataframe tbody tr th {\n",
       "        vertical-align: top;\n",
       "    }\n",
       "\n",
       "    .dataframe thead th {\n",
       "        text-align: right;\n",
       "    }\n",
       "</style>\n",
       "<table border=\"1\" class=\"dataframe\">\n",
       "  <thead>\n",
       "    <tr style=\"text-align: right;\">\n",
       "      <th></th>\n",
       "      <th>price</th>\n",
       "      <th>area</th>\n",
       "      <th>bedrooms</th>\n",
       "      <th>bathrooms</th>\n",
       "      <th>stories</th>\n",
       "      <th>mainroad</th>\n",
       "      <th>guestroom</th>\n",
       "      <th>basement</th>\n",
       "      <th>hotwaterheating</th>\n",
       "      <th>airconditioning</th>\n",
       "      <th>parking</th>\n",
       "      <th>prefarea</th>\n",
       "      <th>furnishingstatus</th>\n",
       "    </tr>\n",
       "  </thead>\n",
       "  <tbody>\n",
       "    <tr>\n",
       "      <th>0</th>\n",
       "      <td>13300000</td>\n",
       "      <td>7420</td>\n",
       "      <td>4</td>\n",
       "      <td>2</td>\n",
       "      <td>3</td>\n",
       "      <td>yes</td>\n",
       "      <td>no</td>\n",
       "      <td>no</td>\n",
       "      <td>no</td>\n",
       "      <td>yes</td>\n",
       "      <td>2</td>\n",
       "      <td>yes</td>\n",
       "      <td>furnished</td>\n",
       "    </tr>\n",
       "    <tr>\n",
       "      <th>1</th>\n",
       "      <td>12250000</td>\n",
       "      <td>8960</td>\n",
       "      <td>4</td>\n",
       "      <td>4</td>\n",
       "      <td>4</td>\n",
       "      <td>yes</td>\n",
       "      <td>no</td>\n",
       "      <td>no</td>\n",
       "      <td>no</td>\n",
       "      <td>yes</td>\n",
       "      <td>3</td>\n",
       "      <td>no</td>\n",
       "      <td>furnished</td>\n",
       "    </tr>\n",
       "    <tr>\n",
       "      <th>2</th>\n",
       "      <td>12250000</td>\n",
       "      <td>9960</td>\n",
       "      <td>3</td>\n",
       "      <td>2</td>\n",
       "      <td>2</td>\n",
       "      <td>yes</td>\n",
       "      <td>no</td>\n",
       "      <td>yes</td>\n",
       "      <td>no</td>\n",
       "      <td>no</td>\n",
       "      <td>2</td>\n",
       "      <td>yes</td>\n",
       "      <td>semi-furnished</td>\n",
       "    </tr>\n",
       "    <tr>\n",
       "      <th>3</th>\n",
       "      <td>12215000</td>\n",
       "      <td>7500</td>\n",
       "      <td>4</td>\n",
       "      <td>2</td>\n",
       "      <td>2</td>\n",
       "      <td>yes</td>\n",
       "      <td>no</td>\n",
       "      <td>yes</td>\n",
       "      <td>no</td>\n",
       "      <td>yes</td>\n",
       "      <td>3</td>\n",
       "      <td>yes</td>\n",
       "      <td>furnished</td>\n",
       "    </tr>\n",
       "    <tr>\n",
       "      <th>4</th>\n",
       "      <td>11410000</td>\n",
       "      <td>7420</td>\n",
       "      <td>4</td>\n",
       "      <td>1</td>\n",
       "      <td>2</td>\n",
       "      <td>yes</td>\n",
       "      <td>yes</td>\n",
       "      <td>yes</td>\n",
       "      <td>no</td>\n",
       "      <td>yes</td>\n",
       "      <td>2</td>\n",
       "      <td>no</td>\n",
       "      <td>furnished</td>\n",
       "    </tr>\n",
       "  </tbody>\n",
       "</table>\n",
       "</div>"
      ],
      "text/plain": [
       "      price  area  bedrooms  bathrooms  stories mainroad guestroom basement  \\\n",
       "0  13300000  7420         4          2        3      yes        no       no   \n",
       "1  12250000  8960         4          4        4      yes        no       no   \n",
       "2  12250000  9960         3          2        2      yes        no      yes   \n",
       "3  12215000  7500         4          2        2      yes        no      yes   \n",
       "4  11410000  7420         4          1        2      yes       yes      yes   \n",
       "\n",
       "  hotwaterheating airconditioning  parking prefarea furnishingstatus  \n",
       "0              no             yes        2      yes        furnished  \n",
       "1              no             yes        3       no        furnished  \n",
       "2              no              no        2      yes   semi-furnished  \n",
       "3              no             yes        3      yes        furnished  \n",
       "4              no             yes        2       no        furnished  "
      ]
     },
     "execution_count": 214,
     "metadata": {},
     "output_type": "execute_result"
    }
   ],
   "source": [
    "house_price_dataframe.head()"
   ]
  },
  {
   "cell_type": "markdown",
   "id": "5e1eb5bb",
   "metadata": {},
   "source": [
    "#Checking the number of rows and columns in the dataframe"
   ]
  },
  {
   "cell_type": "code",
   "execution_count": 215,
   "id": "bcaa0022",
   "metadata": {},
   "outputs": [
    {
     "data": {
      "text/plain": [
       "(545, 13)"
      ]
     },
     "execution_count": 215,
     "metadata": {},
     "output_type": "execute_result"
    }
   ],
   "source": [
    "house_price_dataframe.shape"
   ]
  },
  {
   "cell_type": "markdown",
   "id": "9bc06dd4",
   "metadata": {},
   "source": [
    "#Checking for any missing values in the dataset"
   ]
  },
  {
   "cell_type": "code",
   "execution_count": 216,
   "id": "367c647b",
   "metadata": {},
   "outputs": [
    {
     "data": {
      "text/plain": [
       "price               0\n",
       "area                0\n",
       "bedrooms            0\n",
       "bathrooms           0\n",
       "stories             0\n",
       "mainroad            0\n",
       "guestroom           0\n",
       "basement            0\n",
       "hotwaterheating     0\n",
       "airconditioning     0\n",
       "parking             0\n",
       "prefarea            0\n",
       "furnishingstatus    0\n",
       "dtype: int64"
      ]
     },
     "execution_count": 216,
     "metadata": {},
     "output_type": "execute_result"
    }
   ],
   "source": [
    "house_price_dataframe.isnull().sum()"
   ]
  },
  {
   "cell_type": "markdown",
   "id": "7a33886e",
   "metadata": {},
   "source": [
    "#Statistical measures of the dataset"
   ]
  },
  {
   "cell_type": "code",
   "execution_count": 217,
   "id": "f23d9879",
   "metadata": {},
   "outputs": [
    {
     "data": {
      "text/html": [
       "<div>\n",
       "<style scoped>\n",
       "    .dataframe tbody tr th:only-of-type {\n",
       "        vertical-align: middle;\n",
       "    }\n",
       "\n",
       "    .dataframe tbody tr th {\n",
       "        vertical-align: top;\n",
       "    }\n",
       "\n",
       "    .dataframe thead th {\n",
       "        text-align: right;\n",
       "    }\n",
       "</style>\n",
       "<table border=\"1\" class=\"dataframe\">\n",
       "  <thead>\n",
       "    <tr style=\"text-align: right;\">\n",
       "      <th></th>\n",
       "      <th>price</th>\n",
       "      <th>area</th>\n",
       "      <th>bedrooms</th>\n",
       "      <th>bathrooms</th>\n",
       "      <th>stories</th>\n",
       "      <th>parking</th>\n",
       "    </tr>\n",
       "  </thead>\n",
       "  <tbody>\n",
       "    <tr>\n",
       "      <th>count</th>\n",
       "      <td>5.450000e+02</td>\n",
       "      <td>545.000000</td>\n",
       "      <td>545.000000</td>\n",
       "      <td>545.000000</td>\n",
       "      <td>545.000000</td>\n",
       "      <td>545.000000</td>\n",
       "    </tr>\n",
       "    <tr>\n",
       "      <th>mean</th>\n",
       "      <td>4.766729e+06</td>\n",
       "      <td>5150.541284</td>\n",
       "      <td>2.965138</td>\n",
       "      <td>1.286239</td>\n",
       "      <td>1.805505</td>\n",
       "      <td>0.693578</td>\n",
       "    </tr>\n",
       "    <tr>\n",
       "      <th>std</th>\n",
       "      <td>1.870440e+06</td>\n",
       "      <td>2170.141023</td>\n",
       "      <td>0.738064</td>\n",
       "      <td>0.502470</td>\n",
       "      <td>0.867492</td>\n",
       "      <td>0.861586</td>\n",
       "    </tr>\n",
       "    <tr>\n",
       "      <th>min</th>\n",
       "      <td>1.750000e+06</td>\n",
       "      <td>1650.000000</td>\n",
       "      <td>1.000000</td>\n",
       "      <td>1.000000</td>\n",
       "      <td>1.000000</td>\n",
       "      <td>0.000000</td>\n",
       "    </tr>\n",
       "    <tr>\n",
       "      <th>25%</th>\n",
       "      <td>3.430000e+06</td>\n",
       "      <td>3600.000000</td>\n",
       "      <td>2.000000</td>\n",
       "      <td>1.000000</td>\n",
       "      <td>1.000000</td>\n",
       "      <td>0.000000</td>\n",
       "    </tr>\n",
       "    <tr>\n",
       "      <th>50%</th>\n",
       "      <td>4.340000e+06</td>\n",
       "      <td>4600.000000</td>\n",
       "      <td>3.000000</td>\n",
       "      <td>1.000000</td>\n",
       "      <td>2.000000</td>\n",
       "      <td>0.000000</td>\n",
       "    </tr>\n",
       "    <tr>\n",
       "      <th>75%</th>\n",
       "      <td>5.740000e+06</td>\n",
       "      <td>6360.000000</td>\n",
       "      <td>3.000000</td>\n",
       "      <td>2.000000</td>\n",
       "      <td>2.000000</td>\n",
       "      <td>1.000000</td>\n",
       "    </tr>\n",
       "    <tr>\n",
       "      <th>max</th>\n",
       "      <td>1.330000e+07</td>\n",
       "      <td>16200.000000</td>\n",
       "      <td>6.000000</td>\n",
       "      <td>4.000000</td>\n",
       "      <td>4.000000</td>\n",
       "      <td>3.000000</td>\n",
       "    </tr>\n",
       "  </tbody>\n",
       "</table>\n",
       "</div>"
      ],
      "text/plain": [
       "              price          area    bedrooms   bathrooms     stories  \\\n",
       "count  5.450000e+02    545.000000  545.000000  545.000000  545.000000   \n",
       "mean   4.766729e+06   5150.541284    2.965138    1.286239    1.805505   \n",
       "std    1.870440e+06   2170.141023    0.738064    0.502470    0.867492   \n",
       "min    1.750000e+06   1650.000000    1.000000    1.000000    1.000000   \n",
       "25%    3.430000e+06   3600.000000    2.000000    1.000000    1.000000   \n",
       "50%    4.340000e+06   4600.000000    3.000000    1.000000    2.000000   \n",
       "75%    5.740000e+06   6360.000000    3.000000    2.000000    2.000000   \n",
       "max    1.330000e+07  16200.000000    6.000000    4.000000    4.000000   \n",
       "\n",
       "          parking  \n",
       "count  545.000000  \n",
       "mean     0.693578  \n",
       "std      0.861586  \n",
       "min      0.000000  \n",
       "25%      0.000000  \n",
       "50%      0.000000  \n",
       "75%      1.000000  \n",
       "max      3.000000  "
      ]
     },
     "execution_count": 217,
     "metadata": {},
     "output_type": "execute_result"
    }
   ],
   "source": [
    "house_price_dataframe.describe()"
   ]
  },
  {
   "cell_type": "markdown",
   "id": "49c6b523",
   "metadata": {},
   "source": [
    "#Understanding the correlation between the features of the dataset\n",
    "#Positive Correlation-If one of the value in one of the filed increases then the value of the correlated field also increases. \n",
    "#Negative(/least) Correlation-If one of the value in one of the filed decreases then the value of the correlated field also decreases."
   ]
  },
  {
   "cell_type": "code",
   "execution_count": 218,
   "id": "e466db81",
   "metadata": {},
   "outputs": [],
   "source": [
    "correlation=house_price_dataframe.corr(numeric_only = True)"
   ]
  },
  {
   "cell_type": "markdown",
   "id": "4c003f1e",
   "metadata": {},
   "source": [
    "#Constructing a heatmap to understand the correlation better.\n",
    "#cbar is color bar on the right of the heatmap.\n",
    "#square means that all the values will be present inside a square.\n",
    "#fmt means how many float values we want.(.1f means 1 value after the decimal point)\n",
    "#annot means the annotations(feature names) the size decides the size or mappings of the numbers\n",
    "#cmap is the color of the heat map."
   ]
  },
  {
   "cell_type": "code",
   "execution_count": 219,
   "id": "6a020bb2",
   "metadata": {},
   "outputs": [
    {
     "data": {
      "text/plain": [
       "<AxesSubplot: >"
      ]
     },
     "execution_count": 219,
     "metadata": {},
     "output_type": "execute_result"
    },
    {
     "data": {
      "image/png": "[encoded data removed]",
      "text/plain": [
       "<Figure size 1000x1000 with 2 Axes>"
      ]
     },
     "metadata": {},
     "output_type": "display_data"
    }
   ],
   "source": [
    "plt.figure(figsize=(10,10))\n",
    "sns.heatmap(correlation,cbar=True,square=True,fmt='.1f',annot=True,annot_kws={'size':8},cmap='Blues')"
   ]
  },
  {
   "cell_type": "markdown",
   "id": "f422e95e",
   "metadata": {},
   "source": [
    "#Values 1.0 means that the tile represents Same fields\n",
    "#Splitting the data and Target"
   ]
  },
  {
   "cell_type": "code",
   "execution_count": 220,
   "id": "d1e6dbf3",
   "metadata": {},
   "outputs": [
    {
     "name": "stdout",
     "output_type": "stream",
     "text": [
      "     area  bedrooms  bathrooms  stories mainroad guestroom basement  \\\n",
      "0    7420         4          2        3      yes        no       no   \n",
      "1    8960         4          4        4      yes        no       no   \n",
      "2    9960         3          2        2      yes        no      yes   \n",
      "3    7500         4          2        2      yes        no      yes   \n",
      "4    7420         4          1        2      yes       yes      yes   \n",
      "..    ...       ...        ...      ...      ...       ...      ...   \n",
      "540  3000         2          1        1      yes        no      yes   \n",
      "541  2400         3          1        1       no        no       no   \n",
      "542  3620         2          1        1      yes        no       no   \n",
      "543  2910         3          1        1       no        no       no   \n",
      "544  3850         3          1        2      yes        no       no   \n",
      "\n",
      "    hotwaterheating airconditioning  parking prefarea furnishingstatus  \n",
      "0                no             yes        2      yes        furnished  \n",
      "1                no             yes        3       no        furnished  \n",
      "2                no              no        2      yes   semi-furnished  \n",
      "3                no             yes        3      yes        furnished  \n",
      "4                no             yes        2       no        furnished  \n",
      "..              ...             ...      ...      ...              ...  \n",
      "540              no              no        2       no      unfurnished  \n",
      "541              no              no        0       no   semi-furnished  \n",
      "542              no              no        0       no      unfurnished  \n",
      "543              no              no        0       no        furnished  \n",
      "544              no              no        0       no      unfurnished  \n",
      "\n",
      "[545 rows x 12 columns]\n",
      "0      13300000\n",
      "1      12250000\n",
      "2      12250000\n",
      "3      12215000\n",
      "4      11410000\n",
      "         ...   \n",
      "540     1820000\n",
      "541     1767150\n",
      "542     1750000\n",
      "543     1750000\n",
      "544     1750000\n",
      "Name: price, Length: 545, dtype: int64\n"
     ]
    }
   ],
   "source": [
    "x=house_price_dataframe.drop(['price'],axis=1)#axis=1 indicates that we are dropping a column!\n",
    "y=house_price_dataframe['price']\n",
    "print(x)\n",
    "print(y)"
   ]
  },
  {
   "cell_type": "markdown",
   "id": "d7d902bf",
   "metadata": {},
   "source": [
    "#Splitting the data into training and test data"
   ]
  },
  {
   "cell_type": "code",
   "execution_count": 221,
   "id": "d6f26d51",
   "metadata": {},
   "outputs": [],
   "source": [
    "x_train,x_test,y_train,y_test=train_test_split(x,y,test_size=0.2,random_state=2)#Need 20% of the data in the testing set therefore 0.2 is the test_size"
   ]
  },
  {
   "cell_type": "code",
   "execution_count": 222,
   "id": "53c5555a",
   "metadata": {},
   "outputs": [
    {
     "name": "stdout",
     "output_type": "stream",
     "text": [
      "(545, 12) (436, 12) (109, 12)\n"
     ]
    }
   ],
   "source": [
    "print(x.shape,x_train.shape,x_test.shape)"
   ]
  },
  {
   "cell_type": "markdown",
   "id": "b6471f13",
   "metadata": {},
   "source": [
    "#Trainig the model\n",
    "#XGBoost regressor model based on the decision tree and is an ensemble model having different types of algorithms(logistic and linear combined)"
   ]
  },
  {
   "cell_type": "code",
   "execution_count": 223,
   "id": "3d0b9d7a",
   "metadata": {},
   "outputs": [],
   "source": [
    "#Loading the model\n",
    "model=XGBRegressor()"
   ]
  },
  {
   "cell_type": "code",
   "execution_count": 224,
   "id": "30f5a506",
   "metadata": {
    "scrolled": true
   },
   "outputs": [
    {
     "data": {
      "text/html": [
       "<style>#sk-container-id-9 {color: black;background-color: white;}#sk-container-id-9 pre{padding: 0;}#sk-container-id-9 div.sk-toggleable {background-color: white;}#sk-container-id-9 label.sk-toggleable__label {cursor: pointer;display: block;width: 100%;margin-bottom: 0;padding: 0.3em;box-sizing: border-box;text-align: center;}#sk-container-id-9 label.sk-toggleable__label-arrow:before {content: \"▸\";float: left;margin-right: 0.25em;color: #696969;}#sk-container-id-9 label.sk-toggleable__label-arrow:hover:before {color: black;}#sk-container-id-9 div.sk-estimator:hover label.sk-toggleable__label-arrow:before {color: black;}#sk-container-id-9 div.sk-toggleable__content {max-height: 0;max-width: 0;overflow: hidden;text-align: left;background-color: #f0f8ff;}#sk-container-id-9 div.sk-toggleable__content pre {margin: 0.2em;color: black;border-radius: 0.25em;background-color: #f0f8ff;}#sk-container-id-9 input.sk-toggleable__control:checked~div.sk-toggleable__content {max-height: 200px;max-width: 100%;overflow: auto;}#sk-container-id-9 input.sk-toggleable__control:checked~label.sk-toggleable__label-arrow:before {content: \"▾\";}#sk-container-id-9 div.sk-estimator input.sk-toggleable__control:checked~label.sk-toggleable__label {background-color: #d4ebff;}#sk-container-id-9 div.sk-label input.sk-toggleable__control:checked~label.sk-toggleable__label {background-color: #d4ebff;}#sk-container-id-9 input.sk-hidden--visually {border: 0;clip: rect(1px 1px 1px 1px);clip: rect(1px, 1px, 1px, 1px);height: 1px;margin: -1px;overflow: hidden;padding: 0;position: absolute;width: 1px;}#sk-container-id-9 div.sk-estimator {font-family: monospace;background-color: #f0f8ff;border: 1px dotted black;border-radius: 0.25em;box-sizing: border-box;margin-bottom: 0.5em;}#sk-container-id-9 div.sk-estimator:hover {background-color: #d4ebff;}#sk-container-id-9 div.sk-parallel-item::after {content: \"\";width: 100%;border-bottom: 1px solid gray;flex-grow: 1;}#sk-container-id-9 div.sk-label:hover label.sk-toggleable__label {background-color: #d4ebff;}#sk-container-id-9 div.sk-serial::before {content: \"\";position: absolute;border-left: 1px solid gray;box-sizing: border-box;top: 0;bottom: 0;left: 50%;z-index: 0;}#sk-container-id-9 div.sk-serial {display: flex;flex-direction: column;align-items: center;background-color: white;padding-right: 0.2em;padding-left: 0.2em;position: relative;}#sk-container-id-9 div.sk-item {position: relative;z-index: 1;}#sk-container-id-9 div.sk-parallel {display: flex;align-items: stretch;justify-content: center;background-color: white;position: relative;}#sk-container-id-9 div.sk-item::before, #sk-container-id-9 div.sk-parallel-item::before {content: \"\";position: absolute;border-left: 1px solid gray;box-sizing: border-box;top: 0;bottom: 0;left: 50%;z-index: -1;}#sk-container-id-9 div.sk-parallel-item {display: flex;flex-direction: column;z-index: 1;position: relative;background-color: white;}#sk-container-id-9 div.sk-parallel-item:first-child::after {align-self: flex-end;width: 50%;}#sk-container-id-9 div.sk-parallel-item:last-child::after {align-self: flex-start;width: 50%;}#sk-container-id-9 div.sk-parallel-item:only-child::after {width: 0;}#sk-container-id-9 div.sk-dashed-wrapped {border: 1px dashed gray;margin: 0 0.4em 0.5em 0.4em;box-sizing: border-box;padding-bottom: 0.4em;background-color: white;}#sk-container-id-9 div.sk-label label {font-family: monospace;font-weight: bold;display: inline-block;line-height: 1.2em;}#sk-container-id-9 div.sk-label-container {text-align: center;}#sk-container-id-9 div.sk-container {/* jupyter's `normalize.less` sets `[hidden] { display: none; }` but bootstrap.min.css set `[hidden] { display: none !important; }` so we also need the `!important` here to be able to override the default hidden behavior on the sphinx rendered scikit-learn.org. See: https://github.com/scikit-learn/scikit-learn/issues/21755 */display: inline-block !important;position: relative;}#sk-container-id-9 div.sk-text-repr-fallback {display: none;}</style><div id=\"sk-container-id-9\" class=\"sk-top-container\"><div class=\"sk-text-repr-fallback\"><pre>XGBRegressor(base_score=None, booster=None, callbacks=None,\n",
       "             colsample_bylevel=None, colsample_bynode=None,\n",
       "             colsample_bytree=None, early_stopping_rounds=None,\n",
       "             enable_categorical=False, eval_metric=None, feature_types=None,\n",
       "             gamma=None, gpu_id=None, grow_policy=None, importance_type=None,\n",
       "             interaction_constraints=None, learning_rate=None, max_bin=None,\n",
       "             max_cat_threshold=None, max_cat_to_onehot=None,\n",
       "             max_delta_step=None, max_depth=None, max_leaves=None,\n",
       "             min_child_weight=None, missing=nan, monotone_constraints=None,\n",
       "             n_estimators=100, n_jobs=None, num_parallel_tree=None,\n",
       "             predictor=None, random_state=None, ...)</pre><b>In a Jupyter environment, please rerun this cell to show the HTML representation or trust the notebook. <br />On GitHub, the HTML representation is unable to render, please try loading this page with nbviewer.org.</b></div><div class=\"sk-container\" hidden><div class=\"sk-item\"><div class=\"sk-estimator sk-toggleable\"><input class=\"sk-toggleable__control sk-hidden--visually\" id=\"sk-estimator-id-9\" type=\"checkbox\" checked><label for=\"sk-estimator-id-9\" class=\"sk-toggleable__label sk-toggleable__label-arrow\">XGBRegressor</label><div class=\"sk-toggleable__content\"><pre>XGBRegressor(base_score=None, booster=None, callbacks=None,\n",
       "             colsample_bylevel=None, colsample_bynode=None,\n",
       "             colsample_bytree=None, early_stopping_rounds=None,\n",
       "             enable_categorical=False, eval_metric=None, feature_types=None,\n",
       "             gamma=None, gpu_id=None, grow_policy=None, importance_type=None,\n",
       "             interaction_constraints=None, learning_rate=None, max_bin=None,\n",
       "             max_cat_threshold=None, max_cat_to_onehot=None,\n",
       "             max_delta_step=None, max_depth=None, max_leaves=None,\n",
       "             min_child_weight=None, missing=nan, monotone_constraints=None,\n",
       "             n_estimators=100, n_jobs=None, num_parallel_tree=None,\n",
       "             predictor=None, random_state=None, ...)</pre></div></div></div></div></div>"
      ],
      "text/plain": [
       "XGBRegressor(base_score=None, booster=None, callbacks=None,\n",
       "             colsample_bylevel=None, colsample_bynode=None,\n",
       "             colsample_bytree=None, early_stopping_rounds=None,\n",
       "             enable_categorical=False, eval_metric=None, feature_types=None,\n",
       "             gamma=None, gpu_id=None, grow_policy=None, importance_type=None,\n",
       "             interaction_constraints=None, learning_rate=None, max_bin=None,\n",
       "             max_cat_threshold=None, max_cat_to_onehot=None,\n",
       "             max_delta_step=None, max_depth=None, max_leaves=None,\n",
       "             min_child_weight=None, missing=nan, monotone_constraints=None,\n",
       "             n_estimators=100, n_jobs=None, num_parallel_tree=None,\n",
       "             predictor=None, random_state=None, ...)"
      ]
     },
     "execution_count": 224,
     "metadata": {},
     "output_type": "execute_result"
    }
   ],
   "source": [
    "#Encoding the object type to the related datatype for training data  \n",
    "lbl = preprocessing.LabelEncoder()\n",
    "x_train['mainroad'] = lbl.fit_transform(x_train['mainroad'].astype(str))\n",
    "x_train['guestroom'] = lbl.fit_transform(x_train['guestroom'].astype(str))\n",
    "x_train['basement']=lbl.fit_transform(x_train['basement'].astype(str))\n",
    "x_train['hotwaterheating']=lbl.fit_transform(x_train['hotwaterheating'].astype(str))\n",
    "x_train['airconditioning']=lbl.fit_transform(x_train['airconditioning'].astype(str))\n",
    "x_train['prefarea']=lbl.fit_transform(x_train['prefarea'].astype(str))\n",
    "x_train['furnishingstatus']=lbl.fit_transform(x_train['furnishingstatus'].astype(str))\n",
    "#Training the model with x_train\n",
    "model.fit(x_train,y_train)"
   ]
  },
  {
   "cell_type": "markdown",
   "id": "4a37b19b",
   "metadata": {},
   "source": [
    "#Evaluation\n",
    "#Prediction on the training data"
   ]
  },
  {
   "cell_type": "code",
   "execution_count": 225,
   "id": "671b24dc",
   "metadata": {},
   "outputs": [],
   "source": [
    "#Accuracy for prediction on training data\n",
    "training_data_prediction=model.predict(x_train)"
   ]
  },
  {
   "cell_type": "code",
   "execution_count": 226,
   "id": "023c74b2",
   "metadata": {},
   "outputs": [
    {
     "name": "stdout",
     "output_type": "stream",
     "text": [
      "[ 3439453.8  4269161.5  2652306.   4818412.   4242514.   6952712.5\n",
      "  2913561.5  2682121.   6930822.5  4751732.   3293811.5  2923521.5\n",
      "  6032533.5  5791301.5  7745864.5  4138114.8  5260644.   4580223.\n",
      "  7784454.5  4226844.   4190943.   2663417.   5264197.   4378410.\n",
      "  3916174.   4023553.8  6797925.5  9210163.   4586868.5  3195194.2\n",
      "  3787007.   3083109.8  2370452.2  4071567.2  4250097.   2864897.\n",
      "  4853683.   3687840.2  1918581.9  7973882.   4141927.5 12194537.\n",
      "  8533753.   7409085.   4021300.8  3186948.5  4322010.   3568290.5\n",
      "  3387958.2  2517306.5  5913831.   4083269.2  3878058.5  3182097.8\n",
      "  4050111.5  5316206.   3645990.5  3799502.   3636881.   4172023.5\n",
      "  7474477.5  4318900.   6029483.   2931330.   3797321.2  5504022.5\n",
      "  6616331.5  5813800.5  5462933.5  5594584.   3248588.5  3566274.8\n",
      "  2890455.2  4886017.   5249894.   3673468.   5899259.5  4209735.5\n",
      "  6762079.   5380164.5  3102545.   3564207.8  6590101.   4872898.5\n",
      "  5903170.   8386659.5  2782403.2  3298490.8  9782774.   4138862.\n",
      "  3025694.2  8954839.   4478676.5  2311358.2  3366431.2  4904670.5\n",
      "  3499444.8  5915958.5  3592872.2  4381669.5  4850418.5  2893088.5\n",
      "  5243668.   5770761.   8415629.   4439679.   5600856.5  2982657.\n",
      "  3581925.   4253416.   4985827.   3714882.5  3031402.   6189446.\n",
      "  6471359.5  3132177.5  4748047.   3023411.   5057990.5  2330344.5\n",
      " 12234639.   7753227.   5469945.5  3184706.2  5162000.   3226492.5\n",
      "  2990570.8  6131478.5  3392210.8  8062906.5  5447115.   5034407.\n",
      "  5261047.5  4347833.5  2104768.8  2896689.2  1863925.5  3829860.\n",
      "  4134146.8  9203794.   1975967.1  3512949.5  4406631.   6064314.\n",
      "  5048124.   5564371.   5486854.   3796561.5  3456745.   3574410.2\n",
      " 10167382.   3662422.5  5260952.5  3298865.8  6274197.   3240242.8\n",
      "  4345221.5  3412608.8  3329646.8  3334961.8  4955594.   2924834.\n",
      "  3160298.5  6300174.5  4934477.5  4431268.5  5587190.   3530804.5\n",
      "  5107638.5  9715187.   3486052.   3923059.8  5205636.   3832277.8\n",
      "  5869042.   2926340.   7237734.5  8135560.   4633863.   4270848.5\n",
      "  6671004.   4488705.5  6385856.5  3390645.8  3932823.5  4149014.8\n",
      "  4150257.   5426593.5  3640881.5  6540006.   5062980.   7751269.\n",
      "  6081091.   3362602.8  2926340.   2821227.8 11415850.   3059566.\n",
      "  6204995.   3715352.   2954820.   5441758.   6106686.5  4560727.\n",
      "  2735361.8  4400662.5  4452311.   3223376.5  2746291.5  6623760.\n",
      "  2854881.5  6677042.   4219572.5  6248219.5  6999257.   4314624.5\n",
      "  6326325.5  3809843.2  4273712.5  4901160.   3222576.5  3838118.5\n",
      "  3176829.8  5507895.5  6185757.   4087912.2  3146012.5  3680165.8\n",
      " 10842954.   7583697.   6098383.5  4819310.   5723432.   4857359.\n",
      "  5757386.   4288571.   4278476.   6709056.5  2239101.8  6034876.5\n",
      "  3483935.8  3437702.5  4874729.5  5079735.   3689822.8  2158740.\n",
      "  3582718.   3848028.5  3896787.   4568627.5  3139095.5  9715347.\n",
      "  4118486.   4073524.8  7303188.   3495524.2  3019485.8  8645673.\n",
      "  8058471.   7301073.5  4211458.5  4202935.5  4154562.8  5574781.5\n",
      "  5927474.5  3437702.5  3578682.5  2754639.2  4006551.8  3508367.5\n",
      "  3313673.   4181456.2  4973303.5  4429177.   5724906.5  3547454.2\n",
      "  2403300.   3002883.   6081884.5  9844182.   3114347.   2285813.5\n",
      "  3807630.5  2604315.5  5038530.5  4722613.5  8642572.   7209926.\n",
      "  4406628.5  3711258.5  2877653.2  6289222.5  3363072.2  6618803.\n",
      "  3878111.8  7462778.5  3671243.   2935980.5  2519233.   3130292.\n",
      "  2517075.8  4820099.5  2539519.5  3003191.5  3918087.5  4515555.\n",
      "  6050470.5  4921240.5  2703498.2  6008278.   2048929.9  7079404.\n",
      "  4184063.8  6378644.   4538273.5  2853297.2  7075212.  13257636.\n",
      "  8309707.5  2414471.8  4585665.   3806679.5  5152111.   5121144.5\n",
      "  2509531.2  5709358.5  4565445.5  2619414.5  2599087.5  2849003.2\n",
      "  5412200.5  5594003.5  4368298.5  7222727.   3341009.5  4874860.\n",
      "  2837485.   3367494.   4833405.   3064677.2  5562620.   5917770.5\n",
      "  4143955.   9102844.   4743426.5  4822437.   4704311.   4248974.5\n",
      "  1916905.2  2671805.   3792980.8  3269091.5  6315270.   5940592.5\n",
      "  3055757.5  7045015.5  6475667.5  2509531.2  3882341.8  2893088.5\n",
      "  1859371.1  7362036.   8720201.   2477906.2  6472025.   3985285.5\n",
      "  4359265.   5651497.5  4079629.5  8071432.   4253855.   5913203.\n",
      "  4511538.   6666044.5  2636157.8  8479460.   4227461.   7596977.5\n",
      "  6304333.5  6669903.5  3168497.8  3032055.5  4520959.5  3722399.5\n",
      "  3759549.2  4619763.   6668934.5  3571376.8  4574586.5  3476302.8\n",
      "  3503046.5  4543397.   3381763.8  2776488.   4611738.   4327783.\n",
      "  1902756.2  3316350.   5649999.5  3304900.5  4087699.   7394348.\n",
      "  4924092.   4048191.8  5778629.5  7434296.5  4588722.5  3291106.2\n",
      "  8287380.5  5925255.   4904092.5  3721632.8  3337516.8  4197568.5\n",
      "  6476737.5  4019697.2  3945729.8  4493129.5  3643732.2  7400229.\n",
      "  6283945.   4969019.   5965271.5  3342148.8  4015306.8  7500064.5\n",
      "  3227560.8  4338526.   3721200.2  6660875.5  3014397.   4183002.5\n",
      "  2196990.8  3070137.8  2272218.   5244621. ]\n"
     ]
    }
   ],
   "source": [
    "print(training_data_prediction)"
   ]
  },
  {
   "cell_type": "code",
   "execution_count": 227,
   "id": "91b547ee",
   "metadata": {},
   "outputs": [
    {
     "name": "stdout",
     "output_type": "stream",
     "text": [
      "R squared error:  0.9969523470040218\n",
      "Mean absolute error:  58240.85493119266\n"
     ]
    }
   ],
   "source": [
    "#R squared error\n",
    "#Comparing the training data prediction with the original values\n",
    "score_1=metrics.r2_score(y_train,training_data_prediction)\n",
    "#Mean absolute error\n",
    "score_2=metrics.mean_absolute_error(y_train,training_data_prediction)\n",
    "print(\"R squared error: \",score_1)#Should be near 0 to indicate good performance lesser the error more accurate the model\n",
    "print(\"Mean absolute error: \",score_2)"
   ]
  },
  {
   "cell_type": "markdown",
   "id": "8c112a04",
   "metadata": {},
   "source": [
    "#Visualise the actual and the predicted prices"
   ]
  },
  {
   "cell_type": "code",
   "execution_count": 228,
   "id": "74ac618f",
   "metadata": {},
   "outputs": [
    {
     "data": {
      "image/png": "[encoded data removed]",
      "text/plain": [
       "<Figure size 640x480 with 1 Axes>"
      ]
     },
     "metadata": {},
     "output_type": "display_data"
    }
   ],
   "source": [
    "plt.scatter(y_train,training_data_prediction)\n",
    "plt.xlabel(\"Actual prices\")\n",
    "plt.ylabel(\"Predicted prices\")\n",
    "plt.title(\"Actual vs predicted prices\")\n",
    "plt.show()"
   ]
  },
  {
   "cell_type": "markdown",
   "id": "1f34fe08",
   "metadata": {},
   "source": [
    "#Prediction on test data"
   ]
  },
  {
   "cell_type": "code",
   "execution_count": 229,
   "id": "93305da3",
   "metadata": {},
   "outputs": [],
   "source": [
    "#Encoding the object type to the related datatype for test data \n",
    "lbl = preprocessing.LabelEncoder()\n",
    "x_test['mainroad'] = lbl.fit_transform(x_test['mainroad'].astype(str))\n",
    "x_test['guestroom'] = lbl.fit_transform(x_test['guestroom'].astype(str))\n",
    "x_test['basement']=lbl.fit_transform(x_test['basement'].astype(str))\n",
    "x_test['hotwaterheating']=lbl.fit_transform(x_test['hotwaterheating'].astype(str))\n",
    "x_test['airconditioning']=lbl.fit_transform(x_test['airconditioning'].astype(str))\n",
    "x_test['prefarea']=lbl.fit_transform(x_test['prefarea'].astype(str))\n",
    "x_test['furnishingstatus']=lbl.fit_transform(x_test['furnishingstatus'].astype(str))\n",
    "#Accuracy prediction for the test data which is more important than the training data\n",
    "test_data_prediction=model.predict(x_test)"
   ]
  },
  {
   "cell_type": "code",
   "execution_count": 230,
   "id": "f35063ad",
   "metadata": {},
   "outputs": [
    {
     "name": "stdout",
     "output_type": "stream",
     "text": [
      "R squared error:  0.4167369369211823\n",
      "Mean absolute error:  994441.3830275229\n"
     ]
    }
   ],
   "source": [
    "#R squared error\n",
    "#Comparing the test data prediction with the original values\n",
    "score_1=metrics.r2_score(y_test,test_data_prediction)\n",
    "#Mean absolute error\n",
    "score_2=metrics.mean_absolute_error(y_test,test_data_prediction)\n",
    "print(\"R squared error: \",score_1)#Should be near 0 to indicate good performance lesser the error more accurate the model\n",
    "print(\"Mean absolute error: \",score_2)"
   ]
  }
 ],
 "metadata": {
  "kernelspec": {
   "display_name": "Python 3 (ipykernel)",
   "language": "python",
   "name": "python3"
  },
  "language_info": {
   "codemirror_mode": {
    "name": "ipython",
    "version": 3
   },
   "file_extension": ".py",
   "mimetype": "text/x-python",
   "name": "python",
   "nbconvert_exporter": "python",
   "pygments_lexer": "ipython3",
   "version": "3.11.1"
  }
 },
 "nbformat": 4,
 "nbformat_minor": 5
}
